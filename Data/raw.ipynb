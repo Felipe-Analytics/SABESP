{
 "cells": [
  {
   "cell_type": "markdown",
   "id": "826a3f91",
   "metadata": {},
   "source": [
    "# Raw\n",
    "\n",
    "###### - Arquivo usado para trazer os dados das cotações e trata-los em uma classe e funçao \n"
   ]
  },
  {
   "cell_type": "code",
   "execution_count": 30,
   "id": "6e4429cd",
   "metadata": {},
   "outputs": [],
   "source": [
    "import yfinance as yf\n",
    "import pandas as pd\n",
    "import pandas_datareader as pdr\n",
    "\n",
    "from datetime import datetime ,timedelta\n",
    "import glob\n"
   ]
  },
  {
   "cell_type": "markdown",
   "id": "47bced48",
   "metadata": {},
   "source": [
    "##### Definindo classe Raw com os metodos( funções) de buscar serie e trazer  o IBOV , SABESP E UTIL "
   ]
  },
  {
   "cell_type": "code",
   "execution_count": null,
   "id": "2e242bfc",
   "metadata": {},
   "outputs": [],
   "source": [
    "class Raw:\n",
    "    tickers = [\"SBSP3.SA\", \"^BVSP\",\"XLU\"]\n",
    "\n",
    "    def __init__(self, dias_atras):\n",
    "        self.data_final = datetime.now().strftime(\"%Y-%m-%d\")\n",
    "        self.data_inicial = (datetime.now() - timedelta(days=dias_atras)).strftime(\"%Y-%m-%d\")\n",
    "\n",
    "    def buscar_cotacoes(self):\n",
    "        df = yf.download(self.tickers, start=self.data_inicial, end=self.data_final, auto_adjust=True)\n",
    "        return df\n",
    "\n",
    "    def sabesp(self):\n",
    "        df = self.buscar_cotacoes()\n",
    "        sabesp = df['Close']['SBSP3.SA']\n",
    "\n",
    "        # Variação percentual diária\n",
    "        sabesp_var = sabesp.pct_change()\n",
    "\n",
    "        df_sabesp = pd.DataFrame({\n",
    "            'Date': sabesp_var.index,\n",
    "            'Daily_Return': sabesp_var.values\n",
    "        })\n",
    "\n",
    "        df_sabesp[\"Date\"] = pd.to_datetime(df_sabesp[\"Date\"])\n",
    "        return df_sabesp\n",
    "\n",
    "    def ibov(self):\n",
    "        df = self.buscar_cotacoes()\n",
    "        ibov_values = df['Close']['^BVSP']\n",
    "        \n",
    "        # Variação percentual diária\n",
    "        ibov_var = ibov_values.pct_change()\n",
    "\n",
    "        df_ibov = pd.DataFrame({\n",
    "            'Date': ibov_var.index,\n",
    "            'Daily_Return': ibov_var.values\n",
    "        })\n",
    "\n",
    "        return df_ibov\n",
    "    \n",
    "    def util(self):\n",
    "        caminho_pasta = 'C:\\Users\\batis\\repos\\SABESP\\Data\\Local'\n",
    "        arquivos = glob.glob('UTILB3 - *.csv') + glob.glob('UTILB3.csv')+ glob.glob('UTILB3*.csv')+ glob.glob('UTILB3 - 20*.csv')\n",
    "\n",
    "        if not arquivos:\n",
    "            print(\"Nenhum arquivo UTILB3 encontrado.\")\n",
    "            return None \n",
    "        df_list = [pd.read_csv(arquivo) for arquivo in arquivos]\n",
    "        df_util = pd.concat(df_list, ignore_index=True)\n",
    "\n",
    "        return df_util\n",
    "     \n"
   ]
  },
  {
   "cell_type": "code",
   "execution_count": 32,
   "id": "1e828a97",
   "metadata": {},
   "outputs": [
    {
     "name": "stderr",
     "output_type": "stream",
     "text": [
      "[*********************100%***********************]  3 of 3 completed"
     ]
    },
    {
     "name": "stdout",
     "output_type": "stream",
     "text": [
      "        Date  Daily_Return\n",
      "0 2024-09-10           NaN\n",
      "1 2024-09-11     -0.015792\n",
      "2 2024-09-12     -0.003589\n",
      "3 2024-09-13      0.001483\n",
      "4 2024-09-16      0.020840\n",
      "Date            datetime64[ns]\n",
      "Daily_Return           float64\n",
      "dtype: object\n"
     ]
    },
    {
     "name": "stderr",
     "output_type": "stream",
     "text": [
      "\n",
      "C:\\Users\\batis\\AppData\\Local\\Temp\\ipykernel_21372\\4237986374.py:17: FutureWarning: The default fill_method='pad' in Series.pct_change is deprecated and will be removed in a future version. Either fill in any non-leading NA values prior to calling pct_change or specify 'fill_method=None' to not fill NA values.\n",
      "  sabesp_var = sabesp.pct_change()\n"
     ]
    }
   ],
   "source": [
    "raw_obj = Raw(365)\n",
    "dados_sabesp = raw_obj.sabesp()\n",
    "\n",
    "print(dados_sabesp.head())           # Mostra os primeiros dados tratados\n",
    "print(dados_sabesp.dtypes) "
   ]
  },
  {
   "cell_type": "code",
   "execution_count": 33,
   "id": "b9edf125",
   "metadata": {},
   "outputs": [
    {
     "name": "stderr",
     "output_type": "stream",
     "text": [
      "[*********************100%***********************]  3 of 3 completed\n",
      "C:\\Users\\batis\\AppData\\Local\\Temp\\ipykernel_21372\\4237986374.py:32: FutureWarning: The default fill_method='pad' in Series.pct_change is deprecated and will be removed in a future version. Either fill in any non-leading NA values prior to calling pct_change or specify 'fill_method=None' to not fill NA values.\n",
      "  ibov_var = ibov_values.pct_change()\n"
     ]
    },
    {
     "data": {
      "text/html": [
       "<div>\n",
       "<style scoped>\n",
       "    .dataframe tbody tr th:only-of-type {\n",
       "        vertical-align: middle;\n",
       "    }\n",
       "\n",
       "    .dataframe tbody tr th {\n",
       "        vertical-align: top;\n",
       "    }\n",
       "\n",
       "    .dataframe thead th {\n",
       "        text-align: right;\n",
       "    }\n",
       "</style>\n",
       "<table border=\"1\" class=\"dataframe\">\n",
       "  <thead>\n",
       "    <tr style=\"text-align: right;\">\n",
       "      <th></th>\n",
       "      <th>Date</th>\n",
       "      <th>Daily_Return</th>\n",
       "    </tr>\n",
       "  </thead>\n",
       "  <tbody>\n",
       "    <tr>\n",
       "      <th>0</th>\n",
       "      <td>2024-09-10</td>\n",
       "      <td>NaN</td>\n",
       "    </tr>\n",
       "    <tr>\n",
       "      <th>1</th>\n",
       "      <td>2024-09-11</td>\n",
       "      <td>0.002658</td>\n",
       "    </tr>\n",
       "    <tr>\n",
       "      <th>2</th>\n",
       "      <td>2024-09-12</td>\n",
       "      <td>-0.004812</td>\n",
       "    </tr>\n",
       "    <tr>\n",
       "      <th>3</th>\n",
       "      <td>2024-09-13</td>\n",
       "      <td>0.006364</td>\n",
       "    </tr>\n",
       "    <tr>\n",
       "      <th>4</th>\n",
       "      <td>2024-09-16</td>\n",
       "      <td>0.001750</td>\n",
       "    </tr>\n",
       "    <tr>\n",
       "      <th>...</th>\n",
       "      <td>...</td>\n",
       "      <td>...</td>\n",
       "    </tr>\n",
       "    <tr>\n",
       "      <th>252</th>\n",
       "      <td>2025-09-03</td>\n",
       "      <td>-0.003356</td>\n",
       "    </tr>\n",
       "    <tr>\n",
       "      <th>253</th>\n",
       "      <td>2025-09-04</td>\n",
       "      <td>0.008072</td>\n",
       "    </tr>\n",
       "    <tr>\n",
       "      <th>254</th>\n",
       "      <td>2025-09-05</td>\n",
       "      <td>0.011681</td>\n",
       "    </tr>\n",
       "    <tr>\n",
       "      <th>255</th>\n",
       "      <td>2025-09-08</td>\n",
       "      <td>-0.005945</td>\n",
       "    </tr>\n",
       "    <tr>\n",
       "      <th>256</th>\n",
       "      <td>2025-09-09</td>\n",
       "      <td>-0.001227</td>\n",
       "    </tr>\n",
       "  </tbody>\n",
       "</table>\n",
       "<p>257 rows × 2 columns</p>\n",
       "</div>"
      ],
      "text/plain": [
       "          Date  Daily_Return\n",
       "0   2024-09-10           NaN\n",
       "1   2024-09-11      0.002658\n",
       "2   2024-09-12     -0.004812\n",
       "3   2024-09-13      0.006364\n",
       "4   2024-09-16      0.001750\n",
       "..         ...           ...\n",
       "252 2025-09-03     -0.003356\n",
       "253 2025-09-04      0.008072\n",
       "254 2025-09-05      0.011681\n",
       "255 2025-09-08     -0.005945\n",
       "256 2025-09-09     -0.001227\n",
       "\n",
       "[257 rows x 2 columns]"
      ]
     },
     "execution_count": 33,
     "metadata": {},
     "output_type": "execute_result"
    }
   ],
   "source": [
    "dados_ibov = raw_obj.ibov()\n",
    "dados_ibov"
   ]
  },
  {
   "cell_type": "code",
   "execution_count": 37,
   "id": "6d484997",
   "metadata": {},
   "outputs": [
    {
     "name": "stdout",
     "output_type": "stream",
     "text": [
      "Nenhum arquivo UTILB3 encontrado.\n"
     ]
    }
   ],
   "source": [
    "dados_util = raw_obj.util()\n",
    "dados_util"
   ]
  }
 ],
 "metadata": {
  "kernelspec": {
   "display_name": "base",
   "language": "python",
   "name": "python3"
  },
  "language_info": {
   "codemirror_mode": {
    "name": "ipython",
    "version": 3
   },
   "file_extension": ".py",
   "mimetype": "text/x-python",
   "name": "python",
   "nbconvert_exporter": "python",
   "pygments_lexer": "ipython3",
   "version": "3.12.4"
  }
 },
 "nbformat": 4,
 "nbformat_minor": 5
}
