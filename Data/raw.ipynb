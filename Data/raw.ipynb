{
 "cells": [
  {
   "cell_type": "markdown",
   "id": "826a3f91",
   "metadata": {},
   "source": [
    "# Raw\n",
    "\n",
    "###### - Arquivo usado para trazer os dados das cotações e trata-los em uma classe e funçao \n"
   ]
  },
  {
   "cell_type": "code",
   "execution_count": 7,
   "id": "6e4429cd",
   "metadata": {},
   "outputs": [],
   "source": [
    "import yfinance as yf\n",
    "import pandas as pd\n",
    "import pandas_datareader as pdr\n",
    "import time\n",
    "from datetime import datetime ,timedelta\n",
    "\n"
   ]
  },
  {
   "cell_type": "markdown",
   "id": "47bced48",
   "metadata": {},
   "source": [
    "##### Definindo classe Raw com os metodos( funções) de buscar serie e trazer  o IBOV , SABESP E UTIL "
   ]
  },
  {
   "cell_type": "code",
   "execution_count": null,
   "id": "2e242bfc",
   "metadata": {},
   "outputs": [
    {
     "ename": "SyntaxError",
     "evalue": "invalid syntax (836049853.py, line 6)",
     "output_type": "error",
     "traceback": [
      "\u001b[1;36m  Cell \u001b[1;32mIn[10], line 6\u001b[1;36m\u001b[0m\n\u001b[1;33m    def\u001b[0m\n\u001b[1;37m        ^\u001b[0m\n\u001b[1;31mSyntaxError\u001b[0m\u001b[1;31m:\u001b[0m invalid syntax\n"
     ]
    }
   ],
   "source": [
    "class raw :\n",
    "    def __init__(self):\n",
    "        self.tickers  = \n",
    "\n",
    "\n",
    "tickers = [\"SBSP3.SA\", \"^BVSP\", \"^UTIL\"]\n",
    "\n",
    "data_inicial = datetime.now()\n",
    "data_final = datetime.now() - timedelta(days = 3600)\n",
    "\n",
    "def \n",
    "tabela_cotações = pdr.get_data_yahoo(tickers, data_inicial,data_final)"
   ]
  }
 ],
 "metadata": {
  "kernelspec": {
   "display_name": "base",
   "language": "python",
   "name": "python3"
  },
  "language_info": {
   "codemirror_mode": {
    "name": "ipython",
    "version": 3
   },
   "file_extension": ".py",
   "mimetype": "text/x-python",
   "name": "python",
   "nbconvert_exporter": "python",
   "pygments_lexer": "ipython3",
   "version": "3.12.4"
  }
 },
 "nbformat": 4,
 "nbformat_minor": 5
}
