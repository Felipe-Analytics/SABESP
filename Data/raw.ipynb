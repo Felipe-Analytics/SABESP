{
 "cells": [
  {
   "cell_type": "markdown",
   "id": "826a3f91",
   "metadata": {},
   "source": [
    "# Raw\n",
    "\n",
    "###### - Arquivo usado para trazer os dados das cotações e trata-los em uma classe e funçao \n"
   ]
  },
  {
   "cell_type": "code",
   "execution_count": 7,
   "id": "6e4429cd",
   "metadata": {},
   "outputs": [],
   "source": [
    "import yfinance as yf\n",
    "import pandas as pd\n",
    "import pandas_datareader as pdr\n",
    "import time\n",
    "from datetime import datetime ,timedelta\n",
    "\n"
   ]
  },
  {
   "cell_type": "markdown",
   "id": "47bced48",
   "metadata": {},
   "source": [
    "##### Definindo classe Raw com os metodos( funções) de buscar serie e trazer  o IBOV , SABESP E UTIL "
   ]
  },
  {
   "cell_type": "code",
   "execution_count": 8,
   "id": "2e242bfc",
   "metadata": {},
   "outputs": [],
   "source": [
    "class Raw:\n",
    "    tickers = [\"SBSP3.SA\", \"^BVSP\"]\n",
    "\n",
    "    def __init__(self, dias_atras):\n",
    "        self.data_final = datetime.now().strftime(\"%Y-%m-%d\")\n",
    "        self.data_inicial = (datetime.now() - timedelta(days=dias_atras)).strftime(\"%Y-%m-%d\")\n",
    "\n",
    "    def buscar_cotacoes(self):\n",
    "        df = yf.download(self.tickers, start=self.data_inicial, end=self.data_final)\n",
    "        return df\n",
    "\n",
    "    def sabesp(self):\n",
    "        df = self.buscar_cotacoes()\n",
    "        sabesp = df['Close']['SBSP3.SA']\n",
    "        df_sabesp = pd.DataFrame(sabesp)\n",
    "        df_sabesp = pd.DataFrame({\n",
    "        'Date': sabesp.index,\n",
    "        'Close': sabesp.values  \n",
    "    })\n",
    "        df_sabesp[\"Close\"] = df_sabesp[\"Close\"].astype(float)\n",
    "        df_sabesp[\"Date\"] = pd.to_datetime(df_sabesp[\"Date\"])\n",
    "        return df_sabesp\n"
   ]
  },
  {
   "cell_type": "code",
   "execution_count": 9,
   "id": "1e828a97",
   "metadata": {},
   "outputs": [
    {
     "name": "stderr",
     "output_type": "stream",
     "text": [
      "[*********************100%***********************]  1 of 2 completed\n",
      "\n",
      "2 Failed downloads:\n",
      "['^BVSP', 'SBSP3.SA']: YFRateLimitError('Too Many Requests. Rate limited. Try after a while.')\n"
     ]
    },
    {
     "name": "stdout",
     "output_type": "stream",
     "text": [
      "Empty DataFrame\n",
      "Columns: [Date, Close]\n",
      "Index: []\n",
      "Date     datetime64[ns]\n",
      "Close           float64\n",
      "dtype: object\n"
     ]
    },
    {
     "name": "stderr",
     "output_type": "stream",
     "text": [
      "[*********************100%***********************]  1 of 2 completed"
     ]
    }
   ],
   "source": [
    "raw_obj = Raw(365)\n",
    "dados = raw_obj.sabesp()\n",
    "print(dados.head())           # Mostra os primeiros dados tratados\n",
    "print(dados.dtypes) "
   ]
  }
 ],
 "metadata": {
  "kernelspec": {
   "display_name": "base",
   "language": "python",
   "name": "python3"
  },
  "language_info": {
   "codemirror_mode": {
    "name": "ipython",
    "version": 3
   },
   "file_extension": ".py",
   "mimetype": "text/x-python",
   "name": "python",
   "nbconvert_exporter": "python",
   "pygments_lexer": "ipython3",
   "version": "3.12.4"
  }
 },
 "nbformat": 4,
 "nbformat_minor": 5
}
